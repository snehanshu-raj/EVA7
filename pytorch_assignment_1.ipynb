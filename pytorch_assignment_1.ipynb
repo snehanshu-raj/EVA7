{
  "nbformat": 4,
  "nbformat_minor": 0,
  "metadata": {
    "colab": {
      "name": "pytorch_assignment_1.ipynb",
      "provenance": [],
      "collapsed_sections": [],
      "include_colab_link": true
    },
    "kernelspec": {
      "name": "python3",
      "display_name": "Python 3"
    },
    "language_info": {
      "name": "python"
    },
    "accelerator": "GPU",
    "widgets": {
      "application/vnd.jupyter.widget-state+json": {
        "10b77fe83af84270b51a2a5b6987b9f2": {
          "model_module": "@jupyter-widgets/controls",
          "model_name": "HBoxModel",
          "model_module_version": "1.5.0",
          "state": {
            "_view_name": "HBoxView",
            "_dom_classes": [],
            "_model_name": "HBoxModel",
            "_view_module": "@jupyter-widgets/controls",
            "_model_module_version": "1.5.0",
            "_view_count": null,
            "_view_module_version": "1.5.0",
            "box_style": "",
            "layout": "IPY_MODEL_89f5fb4759834cfd9d2669ab290bead8",
            "_model_module": "@jupyter-widgets/controls",
            "children": [
              "IPY_MODEL_2182c835061b4e3197844a8baf109080",
              "IPY_MODEL_85c82d2765f0401e97832348715128fa",
              "IPY_MODEL_89b3c433f0d04b2aa4d7e8508607c63e"
            ]
          }
        },
        "89f5fb4759834cfd9d2669ab290bead8": {
          "model_module": "@jupyter-widgets/base",
          "model_name": "LayoutModel",
          "model_module_version": "1.2.0",
          "state": {
            "_view_name": "LayoutView",
            "grid_template_rows": null,
            "right": null,
            "justify_content": null,
            "_view_module": "@jupyter-widgets/base",
            "overflow": null,
            "_model_module_version": "1.2.0",
            "_view_count": null,
            "flex_flow": null,
            "width": null,
            "min_width": null,
            "border": null,
            "align_items": null,
            "bottom": null,
            "_model_module": "@jupyter-widgets/base",
            "top": null,
            "grid_column": null,
            "overflow_y": null,
            "overflow_x": null,
            "grid_auto_flow": null,
            "grid_area": null,
            "grid_template_columns": null,
            "flex": null,
            "_model_name": "LayoutModel",
            "justify_items": null,
            "grid_row": null,
            "max_height": null,
            "align_content": null,
            "visibility": null,
            "align_self": null,
            "height": null,
            "min_height": null,
            "padding": null,
            "grid_auto_rows": null,
            "grid_gap": null,
            "max_width": null,
            "order": null,
            "_view_module_version": "1.2.0",
            "grid_template_areas": null,
            "object_position": null,
            "object_fit": null,
            "grid_auto_columns": null,
            "margin": null,
            "display": null,
            "left": null
          }
        },
        "2182c835061b4e3197844a8baf109080": {
          "model_module": "@jupyter-widgets/controls",
          "model_name": "HTMLModel",
          "model_module_version": "1.5.0",
          "state": {
            "_view_name": "HTMLView",
            "style": "IPY_MODEL_46d77e7d15ef40cbab313301cc14d9ac",
            "_dom_classes": [],
            "description": "",
            "_model_name": "HTMLModel",
            "placeholder": "​",
            "_view_module": "@jupyter-widgets/controls",
            "_model_module_version": "1.5.0",
            "value": "",
            "_view_count": null,
            "_view_module_version": "1.5.0",
            "description_tooltip": null,
            "_model_module": "@jupyter-widgets/controls",
            "layout": "IPY_MODEL_048dbcd704a044db8ac7bda98ee150b1"
          }
        },
        "85c82d2765f0401e97832348715128fa": {
          "model_module": "@jupyter-widgets/controls",
          "model_name": "FloatProgressModel",
          "model_module_version": "1.5.0",
          "state": {
            "_view_name": "ProgressView",
            "style": "IPY_MODEL_cbfac5ac72c9463c87f8e8a27634061f",
            "_dom_classes": [],
            "description": "",
            "_model_name": "FloatProgressModel",
            "bar_style": "success",
            "max": 9912422,
            "_view_module": "@jupyter-widgets/controls",
            "_model_module_version": "1.5.0",
            "value": 9912422,
            "_view_count": null,
            "_view_module_version": "1.5.0",
            "orientation": "horizontal",
            "min": 0,
            "description_tooltip": null,
            "_model_module": "@jupyter-widgets/controls",
            "layout": "IPY_MODEL_c0bd068a6cda481f9afc87aa29257cfa"
          }
        },
        "89b3c433f0d04b2aa4d7e8508607c63e": {
          "model_module": "@jupyter-widgets/controls",
          "model_name": "HTMLModel",
          "model_module_version": "1.5.0",
          "state": {
            "_view_name": "HTMLView",
            "style": "IPY_MODEL_4053865971a54dbbb4ea0ba55c1a64c2",
            "_dom_classes": [],
            "description": "",
            "_model_name": "HTMLModel",
            "placeholder": "​",
            "_view_module": "@jupyter-widgets/controls",
            "_model_module_version": "1.5.0",
            "value": " 9913344/? [00:00&lt;00:00, 44930987.34it/s]",
            "_view_count": null,
            "_view_module_version": "1.5.0",
            "description_tooltip": null,
            "_model_module": "@jupyter-widgets/controls",
            "layout": "IPY_MODEL_30e91c328ca8433d8a5f350af6deaec3"
          }
        },
        "46d77e7d15ef40cbab313301cc14d9ac": {
          "model_module": "@jupyter-widgets/controls",
          "model_name": "DescriptionStyleModel",
          "model_module_version": "1.5.0",
          "state": {
            "_view_name": "StyleView",
            "_model_name": "DescriptionStyleModel",
            "description_width": "",
            "_view_module": "@jupyter-widgets/base",
            "_model_module_version": "1.5.0",
            "_view_count": null,
            "_view_module_version": "1.2.0",
            "_model_module": "@jupyter-widgets/controls"
          }
        },
        "048dbcd704a044db8ac7bda98ee150b1": {
          "model_module": "@jupyter-widgets/base",
          "model_name": "LayoutModel",
          "model_module_version": "1.2.0",
          "state": {
            "_view_name": "LayoutView",
            "grid_template_rows": null,
            "right": null,
            "justify_content": null,
            "_view_module": "@jupyter-widgets/base",
            "overflow": null,
            "_model_module_version": "1.2.0",
            "_view_count": null,
            "flex_flow": null,
            "width": null,
            "min_width": null,
            "border": null,
            "align_items": null,
            "bottom": null,
            "_model_module": "@jupyter-widgets/base",
            "top": null,
            "grid_column": null,
            "overflow_y": null,
            "overflow_x": null,
            "grid_auto_flow": null,
            "grid_area": null,
            "grid_template_columns": null,
            "flex": null,
            "_model_name": "LayoutModel",
            "justify_items": null,
            "grid_row": null,
            "max_height": null,
            "align_content": null,
            "visibility": null,
            "align_self": null,
            "height": null,
            "min_height": null,
            "padding": null,
            "grid_auto_rows": null,
            "grid_gap": null,
            "max_width": null,
            "order": null,
            "_view_module_version": "1.2.0",
            "grid_template_areas": null,
            "object_position": null,
            "object_fit": null,
            "grid_auto_columns": null,
            "margin": null,
            "display": null,
            "left": null
          }
        },
        "cbfac5ac72c9463c87f8e8a27634061f": {
          "model_module": "@jupyter-widgets/controls",
          "model_name": "ProgressStyleModel",
          "model_module_version": "1.5.0",
          "state": {
            "_view_name": "StyleView",
            "_model_name": "ProgressStyleModel",
            "description_width": "",
            "_view_module": "@jupyter-widgets/base",
            "_model_module_version": "1.5.0",
            "_view_count": null,
            "_view_module_version": "1.2.0",
            "bar_color": null,
            "_model_module": "@jupyter-widgets/controls"
          }
        },
        "c0bd068a6cda481f9afc87aa29257cfa": {
          "model_module": "@jupyter-widgets/base",
          "model_name": "LayoutModel",
          "model_module_version": "1.2.0",
          "state": {
            "_view_name": "LayoutView",
            "grid_template_rows": null,
            "right": null,
            "justify_content": null,
            "_view_module": "@jupyter-widgets/base",
            "overflow": null,
            "_model_module_version": "1.2.0",
            "_view_count": null,
            "flex_flow": null,
            "width": null,
            "min_width": null,
            "border": null,
            "align_items": null,
            "bottom": null,
            "_model_module": "@jupyter-widgets/base",
            "top": null,
            "grid_column": null,
            "overflow_y": null,
            "overflow_x": null,
            "grid_auto_flow": null,
            "grid_area": null,
            "grid_template_columns": null,
            "flex": null,
            "_model_name": "LayoutModel",
            "justify_items": null,
            "grid_row": null,
            "max_height": null,
            "align_content": null,
            "visibility": null,
            "align_self": null,
            "height": null,
            "min_height": null,
            "padding": null,
            "grid_auto_rows": null,
            "grid_gap": null,
            "max_width": null,
            "order": null,
            "_view_module_version": "1.2.0",
            "grid_template_areas": null,
            "object_position": null,
            "object_fit": null,
            "grid_auto_columns": null,
            "margin": null,
            "display": null,
            "left": null
          }
        },
        "4053865971a54dbbb4ea0ba55c1a64c2": {
          "model_module": "@jupyter-widgets/controls",
          "model_name": "DescriptionStyleModel",
          "model_module_version": "1.5.0",
          "state": {
            "_view_name": "StyleView",
            "_model_name": "DescriptionStyleModel",
            "description_width": "",
            "_view_module": "@jupyter-widgets/base",
            "_model_module_version": "1.5.0",
            "_view_count": null,
            "_view_module_version": "1.2.0",
            "_model_module": "@jupyter-widgets/controls"
          }
        },
        "30e91c328ca8433d8a5f350af6deaec3": {
          "model_module": "@jupyter-widgets/base",
          "model_name": "LayoutModel",
          "model_module_version": "1.2.0",
          "state": {
            "_view_name": "LayoutView",
            "grid_template_rows": null,
            "right": null,
            "justify_content": null,
            "_view_module": "@jupyter-widgets/base",
            "overflow": null,
            "_model_module_version": "1.2.0",
            "_view_count": null,
            "flex_flow": null,
            "width": null,
            "min_width": null,
            "border": null,
            "align_items": null,
            "bottom": null,
            "_model_module": "@jupyter-widgets/base",
            "top": null,
            "grid_column": null,
            "overflow_y": null,
            "overflow_x": null,
            "grid_auto_flow": null,
            "grid_area": null,
            "grid_template_columns": null,
            "flex": null,
            "_model_name": "LayoutModel",
            "justify_items": null,
            "grid_row": null,
            "max_height": null,
            "align_content": null,
            "visibility": null,
            "align_self": null,
            "height": null,
            "min_height": null,
            "padding": null,
            "grid_auto_rows": null,
            "grid_gap": null,
            "max_width": null,
            "order": null,
            "_view_module_version": "1.2.0",
            "grid_template_areas": null,
            "object_position": null,
            "object_fit": null,
            "grid_auto_columns": null,
            "margin": null,
            "display": null,
            "left": null
          }
        }
      }
    }
  },
  "cells": [
    {
      "cell_type": "markdown",
      "metadata": {
        "id": "view-in-github",
        "colab_type": "text"
      },
      "source": [
        "<a href=\"https://colab.research.google.com/github/snehanshu-raj/EVA7/blob/main/pytorch_assignment_1.ipynb\" target=\"_parent\"><img src=\"https://colab.research.google.com/assets/colab-badge.svg\" alt=\"Open In Colab\"/></a>"
      ]
    },
    {
      "cell_type": "markdown",
      "metadata": {
        "id": "uvwsymKjiQL_"
      },
      "source": [
        "# Imports\n"
      ]
    },
    {
      "cell_type": "code",
      "metadata": {
        "id": "Hj9_xD9FScGY"
      },
      "source": [
        "import torch\n",
        "import torchvision\n",
        "import torchvision.transforms as transforms\n",
        "from torch.utils.data import Dataset"
      ],
      "execution_count": 2,
      "outputs": []
    },
    {
      "cell_type": "markdown",
      "metadata": {
        "id": "LMEM7ptkihvk"
      },
      "source": [
        "# Download Dataset"
      ]
    },
    {
      "cell_type": "code",
      "metadata": {
        "colab": {
          "base_uri": "https://localhost:8080/",
          "height": 467,
          "referenced_widgets": [
            "10b77fe83af84270b51a2a5b6987b9f2",
            "89f5fb4759834cfd9d2669ab290bead8",
            "2182c835061b4e3197844a8baf109080",
            "85c82d2765f0401e97832348715128fa",
            "89b3c433f0d04b2aa4d7e8508607c63e",
            "46d77e7d15ef40cbab313301cc14d9ac",
            "048dbcd704a044db8ac7bda98ee150b1",
            "cbfac5ac72c9463c87f8e8a27634061f",
            "c0bd068a6cda481f9afc87aa29257cfa",
            "4053865971a54dbbb4ea0ba55c1a64c2",
            "30e91c328ca8433d8a5f350af6deaec3"
          ]
        },
        "id": "v71KmYutTBcf",
        "outputId": "3de61c18-5f45-484d-fbe1-784a12a1bb38"
      },
      "source": [
        "train_set = torchvision.datasets.MNIST(\n",
        "    root = './data', # store in data folder(create data folder)\n",
        "    train = True,    # use the train folder from the dataset\n",
        "    download = True, # download if it is not found\n",
        "    transform = transforms.Compose([\n",
        "        transforms.ToTensor()\n",
        "    ])\n",
        ")"
      ],
      "execution_count": 3,
      "outputs": [
        {
          "output_type": "stream",
          "name": "stdout",
          "text": [
            "Downloading http://yann.lecun.com/exdb/mnist/train-images-idx3-ubyte.gz\n",
            "Downloading http://yann.lecun.com/exdb/mnist/train-images-idx3-ubyte.gz to ./data/MNIST/raw/train-images-idx3-ubyte.gz\n"
          ]
        },
        {
          "output_type": "display_data",
          "data": {
            "application/vnd.jupyter.widget-view+json": {
              "model_id": "10b77fe83af84270b51a2a5b6987b9f2",
              "version_minor": 0,
              "version_major": 2
            },
            "text/plain": [
              "  0%|          | 0/9912422 [00:00<?, ?it/s]"
            ]
          },
          "metadata": {}
        },
        {
          "output_type": "stream",
          "name": "stdout",
          "text": [
            "Extracting ./data/MNIST/raw/train-images-idx3-ubyte.gz to ./data/MNIST/raw\n",
            "\n",
            "Downloading http://yann.lecun.com/exdb/mnist/train-labels-idx1-ubyte.gz\n",
            "Downloading http://yann.lecun.com/exdb/mnist/train-labels-idx1-ubyte.gz to ./data/MNIST/raw/train-labels-idx1-ubyte.gz\n"
          ]
        },
        {
          "output_type": "display_data",
          "data": {
            "application/vnd.jupyter.widget-view+json": {
              "model_id": "4fd5efd93bd245d786784a26756521c6",
              "version_minor": 0,
              "version_major": 2
            },
            "text/plain": [
              "  0%|          | 0/28881 [00:00<?, ?it/s]"
            ]
          },
          "metadata": {}
        },
        {
          "output_type": "stream",
          "name": "stdout",
          "text": [
            "Extracting ./data/MNIST/raw/train-labels-idx1-ubyte.gz to ./data/MNIST/raw\n",
            "\n",
            "Downloading http://yann.lecun.com/exdb/mnist/t10k-images-idx3-ubyte.gz\n",
            "Downloading http://yann.lecun.com/exdb/mnist/t10k-images-idx3-ubyte.gz to ./data/MNIST/raw/t10k-images-idx3-ubyte.gz\n"
          ]
        },
        {
          "output_type": "display_data",
          "data": {
            "application/vnd.jupyter.widget-view+json": {
              "model_id": "72082c4ad1cc45b4a66452d1fee12566",
              "version_minor": 0,
              "version_major": 2
            },
            "text/plain": [
              "  0%|          | 0/1648877 [00:00<?, ?it/s]"
            ]
          },
          "metadata": {}
        },
        {
          "output_type": "stream",
          "name": "stdout",
          "text": [
            "Extracting ./data/MNIST/raw/t10k-images-idx3-ubyte.gz to ./data/MNIST/raw\n",
            "\n",
            "Downloading http://yann.lecun.com/exdb/mnist/t10k-labels-idx1-ubyte.gz\n",
            "Downloading http://yann.lecun.com/exdb/mnist/t10k-labels-idx1-ubyte.gz to ./data/MNIST/raw/t10k-labels-idx1-ubyte.gz\n"
          ]
        },
        {
          "output_type": "display_data",
          "data": {
            "application/vnd.jupyter.widget-view+json": {
              "model_id": "a90449b1e48e492d81480b94eff0cd90",
              "version_minor": 0,
              "version_major": 2
            },
            "text/plain": [
              "  0%|          | 0/4542 [00:00<?, ?it/s]"
            ]
          },
          "metadata": {}
        },
        {
          "output_type": "stream",
          "name": "stdout",
          "text": [
            "Extracting ./data/MNIST/raw/t10k-labels-idx1-ubyte.gz to ./data/MNIST/raw\n",
            "\n"
          ]
        },
        {
          "output_type": "stream",
          "name": "stderr",
          "text": [
            "/usr/local/lib/python3.7/dist-packages/torchvision/datasets/mnist.py:498: UserWarning: The given NumPy array is not writeable, and PyTorch does not support non-writeable tensors. This means you can write to the underlying (supposedly non-writeable) NumPy array using the tensor. You may want to copy the array to protect its data or make it writeable before converting it to a tensor. This type of warning will be suppressed for the rest of this program. (Triggered internally at  /pytorch/torch/csrc/utils/tensor_numpy.cpp:180.)\n",
            "  return torch.from_numpy(parsed.astype(m[2], copy=False)).view(*s)\n"
          ]
        }
      ]
    },
    {
      "cell_type": "markdown",
      "metadata": {
        "id": "1RZGbTediqZi"
      },
      "source": [
        "# Preparing the Data"
      ]
    },
    {
      "cell_type": "code",
      "metadata": {
        "id": "yvPkLvjlUYTU"
      },
      "source": [
        "train_loader = torch.utils.data.DataLoader(\n",
        "    train_set, #from where our data is coming\n",
        "    batch_size = 32,\n",
        "    shuffle = True\n",
        ")\n",
        "# we want to look for multiple images and send batch of images to our model"
      ],
      "execution_count": 4,
      "outputs": []
    },
    {
      "cell_type": "markdown",
      "metadata": {
        "id": "s8F6zi5diyrO"
      },
      "source": [
        "# General Visualisation\n",
        "Getting familiar with our data."
      ]
    },
    {
      "cell_type": "code",
      "metadata": {
        "id": "K9v0Lwb4U3df"
      },
      "source": [
        "batch = next(iter(train_loader))"
      ],
      "execution_count": 5,
      "outputs": []
    },
    {
      "cell_type": "code",
      "metadata": {
        "colab": {
          "base_uri": "https://localhost:8080/"
        },
        "id": "orl96eLrVIGP",
        "outputId": "c1e5e1d4-8441-4c79-878d-c569b94c1e3c"
      },
      "source": [
        "images, labels = batch   # Dividing batch into images and labels\n",
        "images.shape, labels.shape"
      ],
      "execution_count": 6,
      "outputs": [
        {
          "output_type": "execute_result",
          "data": {
            "text/plain": [
              "(torch.Size([32, 1, 28, 28]), torch.Size([32]))"
            ]
          },
          "metadata": {},
          "execution_count": 6
        }
      ]
    },
    {
      "cell_type": "code",
      "metadata": {
        "colab": {
          "base_uri": "https://localhost:8080/",
          "height": 422
        },
        "id": "0SiWDKpLVMVN",
        "outputId": "8d75b320-af41-463a-9b30-0253b1af09ab"
      },
      "source": [
        "import matplotlib.pyplot as plt\n",
        "import numpy as np\n",
        "\n",
        "grid = torchvision.utils.make_grid(images, nrow=10)  # creating a grid to view the images in the batch\n",
        "plt.figure(figsize=(15,15))\n",
        "plt.imshow(np.transpose(grid, (1,2,0)))\n",
        "print('lables: ', labels)"
      ],
      "execution_count": 7,
      "outputs": [
        {
          "output_type": "stream",
          "name": "stdout",
          "text": [
            "lables:  tensor([9, 0, 6, 8, 1, 2, 2, 1, 2, 1, 7, 9, 0, 7, 0, 8, 9, 0, 9, 1, 8, 9, 7, 9,\n",
            "        8, 7, 5, 6, 7, 2, 2, 6])\n"
          ]
        },
        {
          "output_type": "display_data",
          "data": {
            "image/png": "[encoded data removed]",
            "text/plain": [
              "<Figure size 1080x1080 with 1 Axes>"
            ]
          },
          "metadata": {
            "needs_background": "light"
          }
        }
      ]
    },
    {
      "cell_type": "markdown",
      "metadata": {
        "id": "tMfSJTMAjAeD"
      },
      "source": [
        "# Create Network"
      ]
    },
    {
      "cell_type": "code",
      "metadata": {
        "id": "Ha9mxrYmjvb2"
      },
      "source": [
        "import torch.nn as nn\n",
        "import torch.nn.functional as F"
      ],
      "execution_count": 8,
      "outputs": []
    },
    {
      "cell_type": "code",
      "metadata": {
        "id": "HFD_pDOHVZ4K"
      },
      "source": [
        "class Network(nn.Module): # allows us to use features present inside Module\n",
        "  def __init__(self):\n",
        "    super().__init__()\n",
        "\n",
        "    # input 1x28x28, output 1x26x26, receptive_field=3*3\n",
        "    self.conv1 = nn.Conv2d(in_channels=1, out_channels=1, kernel_size=3)  # Convolution layer 1\n",
        "\n",
        "    # input 1x26x26\n",
        "    self.fc1 = nn.Linear(in_features=1*13*13, out_features=100)   # Fully Connected Layer1\n",
        "\n",
        "    self.out = nn.Linear(in_features=100, out_features=10)    # Output Layer\n",
        "\n",
        "  def forward(self, random_number, MNIST_number): # forward function present in the Module, for back propagation etc\n",
        "    \n",
        "    # input layer\n",
        "    x = MNIST_number\n",
        "    y = random_number\n",
        "    \n",
        "    # conv1 layer\n",
        "    x = self.conv1(x)\n",
        "    x = F.relu(x) # Passing the convolution layer through the Relu activation function\n",
        "    x = F.max_pool2d(x, kernel_size=2, stride=2) # 28 | 26 | 13. Performing Max pooling which will reduce the image size by half and double the RF\n",
        "\n",
        "    # reshaping to flatten the data for the Fully Connected Layer to begin processing\n",
        "    x = x.reshape(-1, 1*13*13)\n",
        "\n",
        "    # fc1 layer\n",
        "    x = self.fc1(x) \n",
        "    x = F.relu(x) # Passing the FC layer thru the Relu activation function\n",
        "\n",
        "    # output layer\n",
        "    x = self.out(x)\n",
        "    x = F.softmax(x, dim=1) \n",
        "    # we never add activation function at the last layer\n",
        "\n",
        "    prediction = x\n",
        "    return prediction, prediction.argmax(dim=1) + y   # we are creating 2 outputs:- 1)image's predicted value 2)the addition of the random number and the predicted value"
      ],
      "execution_count": 34,
      "outputs": []
    },
    {
      "cell_type": "code",
      "metadata": {
        "colab": {
          "base_uri": "https://localhost:8080/"
        },
        "id": "BTnjsLIuobKM",
        "outputId": "818cb6fd-f2a5-4de1-9f6d-b6efc4ab2d84"
      },
      "source": [
        "torch.set_grad_enabled(False)  # we havent begun training yet, hence we can turn off Pytorch's gradient calculations to reduce memory consumption"
      ],
      "execution_count": 36,
      "outputs": [
        {
          "output_type": "execute_result",
          "data": {
            "text/plain": [
              "<torch.autograd.grad_mode.set_grad_enabled at 0x7f4fd18d3210>"
            ]
          },
          "metadata": {},
          "execution_count": 36
        }
      ]
    },
    {
      "cell_type": "markdown",
      "metadata": {
        "id": "-FhfAvse_eLz"
      },
      "source": [
        "Getting an image from training set and viewing it."
      ]
    },
    {
      "cell_type": "code",
      "metadata": {
        "colab": {
          "base_uri": "https://localhost:8080/",
          "height": 176
        },
        "id": "cutL8zVb7vTK",
        "outputId": "76f4022b-a5b9-4184-c1aa-aee348410291"
      },
      "source": [
        "sample = next(iter(train_set)) # generating an image from the train set\n",
        "image, label = sample  # dividing the sample into images and labels\n",
        "\n",
        "# printing the image\n",
        "grid = torchvision.utils.make_grid(image, nrow=1)\n",
        "plt.figure(figsize=(2,2))\n",
        "plt.imshow(np.transpose(grid, (1,2,0)))\n",
        "print('label: ', label)"
      ],
      "execution_count": 37,
      "outputs": [
        {
          "output_type": "stream",
          "name": "stdout",
          "text": [
            "label:  5\n"
          ]
        },
        {
          "output_type": "display_data",
          "data": {
            "image/png": "[encoded data removed]",
            "text/plain": [
              "<Figure size 144x144 with 1 Axes>"
            ]
          },
          "metadata": {
            "needs_background": "light"
          }
        }
      ]
    },
    {
      "cell_type": "markdown",
      "metadata": {
        "id": "nUQdywer_krs"
      },
      "source": [
        "Passing a random number and the image to be predicted to our network."
      ]
    },
    {
      "cell_type": "code",
      "metadata": {
        "colab": {
          "base_uri": "https://localhost:8080/"
        },
        "id": "hJmnCf2m78yQ",
        "outputId": "3fe25ac1-b66a-4073-f3c7-5d52e53244d7"
      },
      "source": [
        "import random    # generating the random number using the random function in Python\n",
        "random_int = random.randint(0, 10)\n",
        "\n",
        "network = Network()   # Creating an instance of the network class\n",
        "\n",
        "pred, ans = network(random_int, image.unsqueeze(0))   # passing the random number and the image to the network. This will provide us with the 2 outputs\n",
        "\n",
        "print(\n",
        "    'Predicted number: ', pred.argmax(dim=1).item(),\n",
        "    '\\nActual number: ', label,\n",
        "    '\\n\\nPrediction: ', pred.argmax(dim=1).eq(label).item(),\n",
        "    '\\n\\nRandom int generated: ', random_int,\n",
        "    '\\n\\nSum by network: ', ans.item(),\n",
        "    '\\nActual Sum: ', label + random_int\n",
        ")"
      ],
      "execution_count": 38,
      "outputs": [
        {
          "output_type": "stream",
          "name": "stdout",
          "text": [
            "Predicted number:  9 \n",
            "Actual number:  5 \n",
            "\n",
            "Prediction:  False \n",
            "\n",
            "Random int generated:  10 \n",
            "\n",
            "Sum by network:  19 \n",
            "Actual Sum:  15\n"
          ]
        }
      ]
    },
    {
      "cell_type": "markdown",
      "metadata": {
        "id": "1iKND1cAGQf6"
      },
      "source": [
        "# Let's begin Training!"
      ]
    },
    {
      "cell_type": "code",
      "metadata": {
        "id": "QwDRM40cCeGN"
      },
      "source": [
        "import torch.optim as optim"
      ],
      "execution_count": 39,
      "outputs": []
    },
    {
      "cell_type": "code",
      "metadata": {
        "colab": {
          "base_uri": "https://localhost:8080/"
        },
        "id": "qGktqGd9GW8Y",
        "outputId": "f3ee1075-7ef8-4ea2-cb65-c482a969f845"
      },
      "source": [
        "torch.set_grad_enabled(True)  # Turning the gradient calculation on since we are training now"
      ],
      "execution_count": 40,
      "outputs": [
        {
          "output_type": "execute_result",
          "data": {
            "text/plain": [
              "<torch.autograd.grad_mode.set_grad_enabled at 0x7f4fd1835750>"
            ]
          },
          "metadata": {},
          "execution_count": 40
        }
      ]
    },
    {
      "cell_type": "markdown",
      "metadata": {
        "id": "lIMYmhaPR65l"
      },
      "source": [
        "Create a training set of batch of 10 images."
      ]
    },
    {
      "cell_type": "code",
      "metadata": {
        "colab": {
          "base_uri": "https://localhost:8080/",
          "height": 156
        },
        "id": "nDEYiw3iGa7_",
        "outputId": "f5c97d61-02b6-4c80-a8f5-39bec3f58c04"
      },
      "source": [
        "network = Network()  # creating an instance of the Network class\n",
        "\n",
        "train_loader = torch.utils.data.DataLoader(train_set, batch_size=10)  # creating the train_loader dataset batch of 10 images from train_set\n",
        "for batch in train_loader:\n",
        "  images, label = batch   # dividing batch into images and labels\n",
        "  grid = torchvision.utils.make_grid(images, nrow=10)  # creating a grid to view the images\n",
        "  plt.figure(figsize=(15,15))  # providing the size of each iamge to be printed\n",
        "  plt.imshow(np.transpose(grid, (1,2,0)))\n",
        "  print('lables: ', label)  # printing the labels present in the batch\n",
        "  break"
      ],
      "execution_count": 41,
      "outputs": [
        {
          "output_type": "stream",
          "name": "stdout",
          "text": [
            "lables:  tensor([5, 0, 4, 1, 9, 2, 1, 3, 1, 4])\n"
          ]
        },
        {
          "output_type": "display_data",
          "data": {
            "image/png": "[encoded data removed]",
            "text/plain": [
              "<Figure size 1080x1080 with 1 Axes>"
            ]
          },
          "metadata": {
            "needs_background": "light"
          }
        }
      ]
    },
    {
      "cell_type": "markdown",
      "metadata": {
        "id": "BHvsVodeRXGN"
      },
      "source": [
        "Function to calculate the correct predictions by the netwrok."
      ]
    },
    {
      "cell_type": "code",
      "metadata": {
        "id": "O1k6TPqwONw2"
      },
      "source": [
        "def get_num_correct(preds, labels):  # creating a function to get correct number of predictions\n",
        "  return preds.argmax(dim=1).eq(labels).sum().item() # returning the output which will show how many predicitons are equal to our labels (actual)"
      ],
      "execution_count": 42,
      "outputs": []
    },
    {
      "cell_type": "markdown",
      "metadata": {
        "id": "na7lqq56Rcho"
      },
      "source": [
        "Trial testing when image is being sent in proper batches and not fake batch, along with list of random integers."
      ]
    },
    {
      "cell_type": "code",
      "metadata": {
        "colab": {
          "base_uri": "https://localhost:8080/"
        },
        "id": "SiGnZzDKLhj1",
        "outputId": "e87fc66c-ef75-4eca-c199-e2b610b598d3"
      },
      "source": [
        "network = Network()  # creating an instance of the network class\n",
        "\n",
        "batch = next(iter(train_loader))  # creating the batch from an iteration of the train_loader \n",
        "images, labels = batch            # dividing batch into images and labels\n",
        "\n",
        "randomlist = []                   # creating a list of random numbers generated using the 'Random' function in Python\n",
        "for i in range(10):\n",
        "  n = random.randint(0, 9)\n",
        "  randomlist.append(n)\n",
        "\n",
        "randomlist = torch.as_tensor(randomlist)  # converting the python list into a tensor\n",
        "\n",
        "preds, ans = network(randomlist.unsqueeze(0).unsqueeze(0), images)  # passing the tensor(random list) and the images from the batch to the network\n",
        "correct = get_num_correct(preds, labels)  # calling the function 'get_num_correct' and storing the value in the 'correct' variable\n",
        "\n",
        "print('random list:', '\\t\\t', randomlist.numpy())\n",
        "print('prediction values:', '\\t', preds.argmax(dim=1).numpy())\n",
        "print('actual values:', '\\t\\t', labels.numpy())\n",
        "print('sums:', '\\t\\t\\t', ans.squeeze().numpy())\n",
        "print('corrects:', correct)"
      ],
      "execution_count": 43,
      "outputs": [
        {
          "output_type": "stream",
          "name": "stdout",
          "text": [
            "random list: \t\t [4 4 5 1 4 7 1 0 0 0]\n",
            "prediction values: \t [2 2 6 2 2 2 2 2 2 2]\n",
            "actual values: \t\t [5 0 4 1 9 2 1 3 1 4]\n",
            "sums: \t\t\t [ 6  6 11  3  6  9  3  2  2  2]\n",
            "corrects: 1\n"
          ]
        }
      ]
    },
    {
      "cell_type": "markdown",
      "metadata": {
        "id": "CcvlcFuCRpQz"
      },
      "source": [
        "# Training"
      ]
    },
    {
      "cell_type": "code",
      "metadata": {
        "colab": {
          "base_uri": "https://localhost:8080/"
        },
        "id": "O7ODPmJjXCW4",
        "outputId": "5cd6850b-d2ae-4e80-a813-a88e16cceba4"
      },
      "source": [
        "torch.cuda.is_available()  # checking if CUDA is available"
      ],
      "execution_count": null,
      "outputs": [
        {
          "output_type": "execute_result",
          "data": {
            "text/plain": [
              "True"
            ]
          },
          "metadata": {},
          "execution_count": 39
        }
      ]
    },
    {
      "cell_type": "code",
      "metadata": {
        "colab": {
          "base_uri": "https://localhost:8080/"
        },
        "id": "ONMTQOqIGtVV",
        "outputId": "3187be16-d77f-45ef-c5ab-146cebefe3f5"
      },
      "source": [
        "optimizer = optim.Adam(network.parameters(), lr=0.01) # optimizer decides how do we update our weights\n",
        "\n",
        "for epoch in range(10):\n",
        "  total_loss = 0\n",
        "  total_correct = 0\n",
        "\n",
        "  for batch in train_loader:\n",
        "    images, labels = batch\n",
        "\n",
        "    randomlist = []\n",
        "    for i in range(10):\n",
        "      n = random.randint(0, 9)\n",
        "      randomlist.append(n)\n",
        "\n",
        "    randomlist = torch.as_tensor(randomlist)\n",
        "\n",
        "    preds, ans = network(randomlist, images)\n",
        "    loss = F.cross_entropy(preds, labels)  # Loss function\n",
        "\n",
        "    optimizer.zero_grad() # before we do back propogation, we need to make grad value 0\n",
        "    loss.backward()\n",
        "    optimizer.step() # update the weights\n",
        "\n",
        "    total_loss += loss.item()\n",
        "    total_correct += get_num_correct(preds, labels)\n",
        "\n",
        "  print(\n",
        "      \"epoch: \", epoch,\n",
        "      \"total_correct: \", total_correct,\n",
        "      \"loss: \", total_loss\n",
        "  )"
      ],
      "execution_count": 44,
      "outputs": [
        {
          "output_type": "stream",
          "name": "stdout",
          "text": [
            "epoch:  0 total_correct:  48547 loss:  9910.356339335442\n",
            "epoch:  1 total_correct:  51589 loss:  9606.443757295609\n",
            "epoch:  2 total_correct:  51466 loss:  9619.786152243614\n",
            "epoch:  3 total_correct:  51317 loss:  9634.464397192001\n",
            "epoch:  4 total_correct:  51159 loss:  9650.727604746819\n",
            "epoch:  5 total_correct:  51359 loss:  9630.880885243416\n",
            "epoch:  6 total_correct:  51427 loss:  9624.400398492813\n",
            "epoch:  7 total_correct:  50460 loss:  9721.007917404175\n",
            "epoch:  8 total_correct:  51421 loss:  9624.77878499031\n",
            "epoch:  9 total_correct:  50968 loss:  9670.008599281311\n"
          ]
        }
      ]
    },
    {
      "cell_type": "code",
      "metadata": {
        "id": "HLaw1I2nZopu"
      },
      "source": [
        ""
      ],
      "execution_count": null,
      "outputs": []
    }
  ]
}